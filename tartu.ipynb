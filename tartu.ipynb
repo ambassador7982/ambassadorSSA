{
  "nbformat": 4,
  "nbformat_minor": 0,
  "metadata": {
    "colab": {
      "provenance": [],
      "authorship_tag": "ABX9TyPLDkTBEsHJ/z7RgYogfmLR",
      "include_colab_link": true
    },
    "kernelspec": {
      "name": "python3",
      "display_name": "Python 3"
    },
    "language_info": {
      "name": "python"
    }
  },
  "cells": [
    {
      "cell_type": "markdown",
      "metadata": {
        "id": "view-in-github",
        "colab_type": "text"
      },
      "source": [
        "<a href=\"https://colab.research.google.com/github/ambassador7982/ambassadorSSA/blob/main/tartu.ipynb\" target=\"_parent\"><img src=\"https://colab.research.google.com/assets/colab-badge.svg\" alt=\"Open In Colab\"/></a>"
      ]
    },
    {
      "cell_type": "code",
      "execution_count": 22,
      "metadata": {
        "id": "hwQzwo5vK6ee"
      },
      "outputs": [],
      "source": [
        "import numpy as np\n",
        "import pandas as pd\n",
        "import matplotlib.pyplot as plt"
      ]
    },
    {
      "cell_type": "code",
      "source": [
        "try:\n",
        "  import opendatasets as od\n",
        "except ImportError as e:\n",
        "  !pip install opendatasets\n",
        "  import opendatasets as od"
      ],
      "metadata": {
        "id": "ut60Rr5tNDqx"
      },
      "execution_count": 23,
      "outputs": []
    },
    {
      "cell_type": "markdown",
      "source": [
        "Loading the data\n",
        "Here I just copied from Kaggle into a new directory called data and the file name was given as city_temp.zip\n",
        "\n",
        "Checking the dataframes memory usage and info about the content of the data file.\n",
        "NOTE: uncomment if you want to use this way!"
      ],
      "metadata": {
        "id": "NREZ6cP7NIuZ"
      }
    },
    {
      "cell_type": "code",
      "source": [
        "# download the data\n",
        "od.download(\"https://www.kaggle.com/datasets/sudalairajkumar/daily-temperature-of-major-cities\")\n",
        "\n",
        "# access them from the download folder\n",
        "fn = \"daily-temperature-of-major-cities/city_temperature.csv\"\n",
        "df = pd.read_csv(fn, low_memory=False) \n",
        "                    \n",
        "# Check the memory usage                     \n",
        "df.info(memory_usage=\"deep\")"
      ],
      "metadata": {
        "colab": {
          "base_uri": "https://localhost:8080/"
        },
        "id": "L0HplJyYOCvL",
        "outputId": "76b1020d-349c-4ea8-99c4-391d191e94c4"
      },
      "execution_count": 24,
      "outputs": [
        {
          "output_type": "stream",
          "name": "stdout",
          "text": [
            "Skipping, found downloaded files in \"./daily-temperature-of-major-cities\" (use force=True to force download)\n",
            "<class 'pandas.core.frame.DataFrame'>\n",
            "RangeIndex: 2906327 entries, 0 to 2906326\n",
            "Data columns (total 8 columns):\n",
            " #   Column          Dtype  \n",
            "---  ------          -----  \n",
            " 0   Region          object \n",
            " 1   Country         object \n",
            " 2   State           object \n",
            " 3   City            object \n",
            " 4   Month           int64  \n",
            " 5   Day             int64  \n",
            " 6   Year            int64  \n",
            " 7   AvgTemperature  float64\n",
            "dtypes: float64(1), int64(3), object(4)\n",
            "memory usage: 767.7 MB\n"
          ]
        }
      ]
    },
    {
      "cell_type": "code",
      "source": [
        "df.Region.unique()"
      ],
      "metadata": {
        "colab": {
          "base_uri": "https://localhost:8080/"
        },
        "id": "MC4LiwYeObNj",
        "outputId": "046c7266-b6cf-476d-d07b-4c02e2e0d398"
      },
      "execution_count": 25,
      "outputs": [
        {
          "output_type": "execute_result",
          "data": {
            "text/plain": [
              "array(['Africa', 'Asia', 'Australia/South Pacific', 'Europe',\n",
              "       'Middle East', 'North America',\n",
              "       'South/Central America & Carribean'], dtype=object)"
            ]
          },
          "metadata": {},
          "execution_count": 25
        }
      ]
    },
    {
      "cell_type": "code",
      "source": [
        "df[df.Region==\"Europe\"].City.unique()"
      ],
      "metadata": {
        "colab": {
          "base_uri": "https://localhost:8080/"
        },
        "id": "gdXA_UYxOtpO",
        "outputId": "e32a0eb7-f4d1-4b4f-9db4-743e3f3575a0"
      },
      "execution_count": 26,
      "outputs": [
        {
          "output_type": "execute_result",
          "data": {
            "text/plain": [
              "array(['Tirana', 'Vienna', 'Minsk', 'Brussels', 'Sofia', 'Zagreb',\n",
              "       'Nicosia', 'Prague', 'Copenhagen', 'Helsinki', 'Paris', 'Bordeaux',\n",
              "       'Bonn', 'Frankfurt', 'Hamburg', 'Munich', 'Tbilisi', 'Athens',\n",
              "       'Budapest', 'Reykjavik', 'Dublin', 'Milan', 'Rome', 'Riga',\n",
              "       'Skopje', 'Amsterdam', 'Oslo', 'Warsaw', 'Lisbon', 'Bucharest',\n",
              "       'Moscow', 'Yerevan', 'Pristina', 'Bratislava', 'Barcelona',\n",
              "       'Bilbao', 'Madrid', 'Stockholm', 'Bern', 'Geneva', 'Zurich',\n",
              "       'Kiev', 'Belfast', 'London', 'Belgrade'], dtype=object)"
            ]
          },
          "metadata": {},
          "execution_count": 26
        }
      ]
    },
    {
      "cell_type": "code",
      "source": [
        "df = df[df.City == \"Frankfurt\"]"
      ],
      "metadata": {
        "id": "wk7T_otFPAKy"
      },
      "execution_count": 27,
      "outputs": []
    },
    {
      "cell_type": "code",
      "source": [
        "# Use only timestamp and avg temperature\n",
        "df = df[['Year', 'Month', 'Day', 'AvgTemperature']]\n",
        "\n",
        "# filter for meaningful temperatures\n",
        "df = df[df['AvgTemperature']>-70]\n",
        "\n",
        "# create a datetime object and set as index\n",
        "df['Date'] = pd.to_datetime(df[['Year', 'Month', 'Day']]) \n",
        "df = df.set_index(df['Date'])\n",
        "\n",
        "#Select only the temperature\n",
        "df = df[['AvgTemperature']]\n",
        "\n",
        "# Transfer to °C\n",
        "df['AvgTemperature'] = (df['AvgTemperature']-32)*5/9"
      ],
      "metadata": {
        "id": "6ymZ1JXVSLwY"
      },
      "execution_count": 28,
      "outputs": []
    },
    {
      "cell_type": "code",
      "source": [
        "df.head(3)"
      ],
      "metadata": {
        "colab": {
          "base_uri": "https://localhost:8080/",
          "height": 175
        },
        "id": "aHwhgUNHTyBZ",
        "outputId": "80951caf-3d5a-4e1a-df6f-d41968e8a17e"
      },
      "execution_count": 29,
      "outputs": [
        {
          "output_type": "execute_result",
          "data": {
            "text/plain": [
              "            AvgTemperature\n",
              "Date                      \n",
              "1995-01-03        0.611111\n",
              "1995-01-04       -4.333333\n",
              "1995-01-05       -5.888889"
            ],
            "text/html": [
              "\n",
              "  <div id=\"df-93516936-eec2-4f3a-be7a-671a07b462c2\">\n",
              "    <div class=\"colab-df-container\">\n",
              "      <div>\n",
              "<style scoped>\n",
              "    .dataframe tbody tr th:only-of-type {\n",
              "        vertical-align: middle;\n",
              "    }\n",
              "\n",
              "    .dataframe tbody tr th {\n",
              "        vertical-align: top;\n",
              "    }\n",
              "\n",
              "    .dataframe thead th {\n",
              "        text-align: right;\n",
              "    }\n",
              "</style>\n",
              "<table border=\"1\" class=\"dataframe\">\n",
              "  <thead>\n",
              "    <tr style=\"text-align: right;\">\n",
              "      <th></th>\n",
              "      <th>AvgTemperature</th>\n",
              "    </tr>\n",
              "    <tr>\n",
              "      <th>Date</th>\n",
              "      <th></th>\n",
              "    </tr>\n",
              "  </thead>\n",
              "  <tbody>\n",
              "    <tr>\n",
              "      <th>1995-01-03</th>\n",
              "      <td>0.611111</td>\n",
              "    </tr>\n",
              "    <tr>\n",
              "      <th>1995-01-04</th>\n",
              "      <td>-4.333333</td>\n",
              "    </tr>\n",
              "    <tr>\n",
              "      <th>1995-01-05</th>\n",
              "      <td>-5.888889</td>\n",
              "    </tr>\n",
              "  </tbody>\n",
              "</table>\n",
              "</div>\n",
              "      <button class=\"colab-df-convert\" onclick=\"convertToInteractive('df-93516936-eec2-4f3a-be7a-671a07b462c2')\"\n",
              "              title=\"Convert this dataframe to an interactive table.\"\n",
              "              style=\"display:none;\">\n",
              "        \n",
              "  <svg xmlns=\"http://www.w3.org/2000/svg\" height=\"24px\"viewBox=\"0 0 24 24\"\n",
              "       width=\"24px\">\n",
              "    <path d=\"M0 0h24v24H0V0z\" fill=\"none\"/>\n",
              "    <path d=\"M18.56 5.44l.94 2.06.94-2.06 2.06-.94-2.06-.94-.94-2.06-.94 2.06-2.06.94zm-11 1L8.5 8.5l.94-2.06 2.06-.94-2.06-.94L8.5 2.5l-.94 2.06-2.06.94zm10 10l.94 2.06.94-2.06 2.06-.94-2.06-.94-.94-2.06-.94 2.06-2.06.94z\"/><path d=\"M17.41 7.96l-1.37-1.37c-.4-.4-.92-.59-1.43-.59-.52 0-1.04.2-1.43.59L10.3 9.45l-7.72 7.72c-.78.78-.78 2.05 0 2.83L4 21.41c.39.39.9.59 1.41.59.51 0 1.02-.2 1.41-.59l7.78-7.78 2.81-2.81c.8-.78.8-2.07 0-2.86zM5.41 20L4 18.59l7.72-7.72 1.47 1.35L5.41 20z\"/>\n",
              "  </svg>\n",
              "      </button>\n",
              "      \n",
              "  <style>\n",
              "    .colab-df-container {\n",
              "      display:flex;\n",
              "      flex-wrap:wrap;\n",
              "      gap: 12px;\n",
              "    }\n",
              "\n",
              "    .colab-df-convert {\n",
              "      background-color: #E8F0FE;\n",
              "      border: none;\n",
              "      border-radius: 50%;\n",
              "      cursor: pointer;\n",
              "      display: none;\n",
              "      fill: #1967D2;\n",
              "      height: 32px;\n",
              "      padding: 0 0 0 0;\n",
              "      width: 32px;\n",
              "    }\n",
              "\n",
              "    .colab-df-convert:hover {\n",
              "      background-color: #E2EBFA;\n",
              "      box-shadow: 0px 1px 2px rgba(60, 64, 67, 0.3), 0px 1px 3px 1px rgba(60, 64, 67, 0.15);\n",
              "      fill: #174EA6;\n",
              "    }\n",
              "\n",
              "    [theme=dark] .colab-df-convert {\n",
              "      background-color: #3B4455;\n",
              "      fill: #D2E3FC;\n",
              "    }\n",
              "\n",
              "    [theme=dark] .colab-df-convert:hover {\n",
              "      background-color: #434B5C;\n",
              "      box-shadow: 0px 1px 3px 1px rgba(0, 0, 0, 0.15);\n",
              "      filter: drop-shadow(0px 1px 2px rgba(0, 0, 0, 0.3));\n",
              "      fill: #FFFFFF;\n",
              "    }\n",
              "  </style>\n",
              "\n",
              "      <script>\n",
              "        const buttonEl =\n",
              "          document.querySelector('#df-93516936-eec2-4f3a-be7a-671a07b462c2 button.colab-df-convert');\n",
              "        buttonEl.style.display =\n",
              "          google.colab.kernel.accessAllowed ? 'block' : 'none';\n",
              "\n",
              "        async function convertToInteractive(key) {\n",
              "          const element = document.querySelector('#df-93516936-eec2-4f3a-be7a-671a07b462c2');\n",
              "          const dataTable =\n",
              "            await google.colab.kernel.invokeFunction('convertToInteractive',\n",
              "                                                     [key], {});\n",
              "          if (!dataTable) return;\n",
              "\n",
              "          const docLinkHtml = 'Like what you see? Visit the ' +\n",
              "            '<a target=\"_blank\" href=https://colab.research.google.com/notebooks/data_table.ipynb>data table notebook</a>'\n",
              "            + ' to learn more about interactive tables.';\n",
              "          element.innerHTML = '';\n",
              "          dataTable['output_type'] = 'display_data';\n",
              "          await google.colab.output.renderOutput(dataTable, element);\n",
              "          const docLink = document.createElement('div');\n",
              "          docLink.innerHTML = docLinkHtml;\n",
              "          element.appendChild(docLink);\n",
              "        }\n",
              "      </script>\n",
              "    </div>\n",
              "  </div>\n",
              "  "
            ]
          },
          "metadata": {},
          "execution_count": 29
        }
      ]
    },
    {
      "cell_type": "code",
      "source": [
        "# Visualise the data\n",
        "df['AvgTemperature'].plot()\n",
        "plt.show()\n",
        "\n",
        "print(df.info(memory_usage=\"deep\"))\n",
        "df.describe();"
      ],
      "metadata": {
        "colab": {
          "base_uri": "https://localhost:8080/",
          "height": 578
        },
        "id": "Fnif6MCJUCJc",
        "outputId": "ebd1478f-5265-45e7-f0a4-e2bd086cedf3"
      },
      "execution_count": 31,
      "outputs": [
        {
          "output_type": "display_data",
          "data": {
            "text/plain": [
              "<Figure size 640x480 with 1 Axes>"
            ],
            "image/png": "[encoded data removed]"
          },
          "metadata": {}
        },
        {
          "output_type": "stream",
          "name": "stdout",
          "text": [
            "<class 'pandas.core.frame.DataFrame'>\n",
            "DatetimeIndex: 2331 entries, 1995-01-03 to 2006-04-28\n",
            "Data columns (total 1 columns):\n",
            " #   Column          Non-Null Count  Dtype  \n",
            "---  ------          --------------  -----  \n",
            " 0   AvgTemperature  2331 non-null   float64\n",
            "dtypes: float64(1)\n",
            "memory usage: 36.4 KB\n",
            "None\n"
          ]
        }
      ]
    },
    {
      "cell_type": "code",
      "source": [],
      "metadata": {
        "id": "cdkXhsQvUbLL"
      },
      "execution_count": null,
      "outputs": []
    }
  ]
}